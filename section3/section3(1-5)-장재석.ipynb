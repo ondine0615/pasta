{
 "cells": [
  {
   "cell_type": "markdown",
   "id": "a464051a",
   "metadata": {},
   "source": [
    "1.회문 문자열 검사"
   ]
  },
  {
   "cell_type": "code",
   "execution_count": 3,
   "id": "05d40661",
   "metadata": {},
   "outputs": [
    {
     "data": {
      "text/plain": [
       "'1. 회문 문자열 검사'"
      ]
     },
     "execution_count": 3,
     "metadata": {},
     "output_type": "execute_result"
    }
   ],
   "source": [
    "os.listdir()[1]"
   ]
  },
  {
   "cell_type": "code",
   "execution_count": 5,
   "id": "cf782977",
   "metadata": {},
   "outputs": [
    {
     "name": "stdout",
     "output_type": "stream",
     "text": [
      "6\n",
      "기러기\n",
      "#0 YES\n",
      "Level\n",
      "#1 YES\n",
      "yes\n",
      "#2 NO\n",
      "장재석\n",
      "#3 NO\n",
      "바보다\n",
      "#4 NO\n",
      "AaA\n",
      "#5 YES\n"
     ]
    }
   ],
   "source": [
    "import os\n",
    "import sys\n",
    "n=int(input())\n",
    "for i in range(n):\n",
    "    str=input()\n",
    "    str=str.upper()\n",
    "    if str==str[::-1]:\n",
    "        print(\"#%d YES\" %i)\n",
    "    else:\n",
    "        print(\"#%d NO\" %i)\n"
   ]
  },
  {
   "cell_type": "markdown",
   "id": "2b75aef1",
   "metadata": {},
   "source": [
    "2. 숫자만추출"
   ]
  },
  {
   "cell_type": "code",
   "execution_count": 16,
   "id": "91bf6713",
   "metadata": {},
   "outputs": [
    {
     "name": "stdout",
     "output_type": "stream",
     "text": [
      "00abcd1509\n",
      "1509\n",
      "4\n"
     ]
    }
   ],
   "source": [
    "letter=input()\n",
    "intlist = []\n",
    "for i in letter:\n",
    "    try:\n",
    "        intlist.append(int(i))\n",
    "    except:\n",
    "        pass\n",
    "sum = 0\n",
    "lenth = len(intlist)-1\n",
    "for n,k in enumerate(intlist):\n",
    "    if (sum == 0)&(k==0):\n",
    "        continue\n",
    "    sum += 10**(lenth-n)*k\n",
    "print(sum)\n",
    "cnt=0\n",
    "for i in range(1, sum+1):\n",
    "    if sum%i==0:\n",
    "        print(i)\n",
    "        cnt+=1\n",
    "print(cnt)"
   ]
  },
  {
   "cell_type": "markdown",
   "id": "e4383b71",
   "metadata": {},
   "source": [
    "3. 카드 역배치"
   ]
  },
  {
   "cell_type": "code",
   "execution_count": 17,
   "id": "b8c5b5df",
   "metadata": {},
   "outputs": [
    {
     "name": "stdout",
     "output_type": "stream",
     "text": [
      "5 10\n",
      "10 15\n",
      "12 14\n",
      "15 19\n",
      "3 5\n",
      "1 2\n",
      "1 2\n",
      "1 2 \n",
      "1 2\n",
      "1 2\n",
      "2 1 10 4 3 9 8 7 6 15 14 11 12 13 19 18 17 16 5 20 "
     ]
    }
   ],
   "source": [
    "a=list(range(21))\n",
    "for i in range(10):\n",
    "    n, k=map(int, input().split())\n",
    "    if n > k:\n",
    "        n, k = k, n\n",
    "        continue\n",
    "    for i in range((k-n+1)//2):\n",
    "        a[n+i], a[k-i]=a[k-i], a[n+i]\n",
    "#0번째 구간제거\n",
    "a.pop(0)\n",
    "for i in a:\n",
    "    print(i, end=' ')"
   ]
  },
  {
   "cell_type": "markdown",
   "id": "bd39b0fc",
   "metadata": {},
   "source": [
    "4. 두 리스트 합치기"
   ]
  },
  {
   "cell_type": "code",
   "execution_count": 23,
   "id": "c447faa3",
   "metadata": {},
   "outputs": [
    {
     "name": "stdout",
     "output_type": "stream",
     "text": [
      "4\n",
      "1 2 3 4\n",
      "5\n",
      "1 2 3 6 7\n"
     ]
    }
   ],
   "source": [
    "n=int(input())\n",
    "a=list(map(int, input().split()))\n",
    "m=int(input())\n",
    "b=list(map(int, input().split()))\n",
    "c = [a,b]\n",
    "final_list = []\n",
    "for lists in c:\n",
    "    for i in lists:\n",
    "        if i not in final_list:\n",
    "            final_list.append(i)\n",
    "print(final_list)"
   ]
  },
  {
   "cell_type": "code",
   "execution_count": 24,
   "id": "5d6adc50",
   "metadata": {},
   "outputs": [
    {
     "data": {
      "text/plain": [
       "[1, 2, 3, 4, 6, 7]"
      ]
     },
     "execution_count": 24,
     "metadata": {},
     "output_type": "execute_result"
    }
   ],
   "source": [
    "final_list"
   ]
  },
  {
   "cell_type": "markdown",
   "id": "e623eac8",
   "metadata": {},
   "source": [
    "5. 수들의 합"
   ]
  },
  {
   "cell_type": "code",
   "execution_count": 25,
   "id": "dc2b6467",
   "metadata": {},
   "outputs": [
    {
     "name": "stdout",
     "output_type": "stream",
     "text": [
      "5 3\n",
      "1 2 3 5 1\n",
      "2\n"
     ]
    }
   ],
   "source": [
    "#엄청오래걸림\n",
    "n, M=map(int, input().split())\n",
    "arr =list(map(int, input().split()))\n",
    "sum = 0\n",
    "\n",
    "idx, sum_n, cnt = 0, 0, 0\n",
    "for x in arr:\n",
    "    sum_n += x\n",
    "    while sum_n > M:\n",
    "        sum_n -= arr[idx]\n",
    "        idx += 1\n",
    "    \n",
    "    cnt += (sum_n == M)\n",
    "print(cnt)"
   ]
  }
 ],
 "metadata": {
  "kernelspec": {
   "display_name": "Python 3",
   "language": "python",
   "name": "python3"
  },
  "language_info": {
   "codemirror_mode": {
    "name": "ipython",
    "version": 3
   },
   "file_extension": ".py",
   "mimetype": "text/x-python",
   "name": "python",
   "nbconvert_exporter": "python",
   "pygments_lexer": "ipython3",
   "version": "3.8.8"
  }
 },
 "nbformat": 4,
 "nbformat_minor": 5
}
